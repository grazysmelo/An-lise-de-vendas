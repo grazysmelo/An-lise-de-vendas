{
 "cells": [
  {
   "cell_type": "markdown",
   "metadata": {},
   "source": [
    "## Análise de Vendas do Dataset Olist\n",
    "\n",
    "### Introdução\n",
    "Neste notebook, vamos explorar e analisar o dataset de vendas da Olist para responder a perguntas específicas sobre o comportamento de vendas e padrões sazonais."
   ]
  },
  {
   "cell_type": "code",
   "execution_count": null,
   "metadata": {},
   "outputs": [],
   "source": [
    "import pandas as pd\n",
    "import numpy as np\n",
    "import matplotlib.pyplot as plt\n",
    "import seaborn as sns\n",
    "import folium\n",
    "from folium.plugins import HeatMap\n",
    "import geopandas as gpd\n",
    "import os\n",
    "\n",
    "sns.set_theme(style=\"whitegrid\")\n",
    "\n",
    "data_dir = '../dados/'"
   ]
  },
  {
   "cell_type": "code",
   "execution_count": null,
   "metadata": {},
   "outputs": [],
   "source": [
    "customers = pd.read_csv (data_dir + 'olist_customers_dataset.csv')\n",
    "geolocation = pd.read_csv (data_dir + 'olist_geolocation_dataset.csv')\n",
    "order_items = pd.read_csv (data_dir + 'olist_order_items_dataset.csv')\n",
    "order_payment = pd.read_csv (data_dir + 'olist_order_payments_dataset.csv')\n",
    "order_reviews = pd.read_csv (data_dir + 'olist_order_reviews_dataset.csv')\n",
    "orders = pd.read_csv (data_dir + 'olist_orders_dataset.csv')\n",
    "products = pd.read_csv (data_dir + 'olist_products_dataset.csv')\n",
    "sellers = pd.read_csv (data_dir + 'olist_sellers_dataset.csv')\n",
    "product_category = pd.read_csv (data_dir + 'product_category_name_translation.csv')"
   ]
  },
  {
   "cell_type": "markdown",
   "metadata": {},
   "source": [
    "Após importar as bibliotecas e os dados necessários, é importante realizar uma análise inicial dos dados. Verifiquei as dimensões dos datasets, colunas e tipos de dados."
   ]
  },
  {
   "cell_type": "code",
   "execution_count": null,
   "metadata": {},
   "outputs": [],
   "source": [
    "customers.head(), geolocation.head(), order_items.head(), order_payment.head(), order_reviews.head(), \n",
    "orders.head(), products.head(), sellers.head(), product_category.head()"
   ]
  },
  {
   "cell_type": "code",
   "execution_count": null,
   "metadata": {},
   "outputs": [],
   "source": [
    "print(customers.info())\n",
    "print(orders.info())\n",
    "print(product_category.info())\n",
    "print(orders.columns)\n",
    "print(customers.columns)"
   ]
  },
  {
   "cell_type": "markdown",
   "metadata": {},
   "source": [
    "As primeiras perguntas a serem respondidas foram: Qual é a distribuição do número de pedidos e qual é o valor médio dos pedidos, por estado?\n",
    "\n",
    "Para sanar essas dúvidas, é necessário agrupar os pedidos por estado e calcular a soma e a média de cada estado."
   ]
  },
  {
   "cell_type": "code",
   "execution_count": null,
   "metadata": {},
   "outputs": [],
   "source": [
    "orders_by_state = customers.groupby('customer_state')['customer_id'].count().reset_index()\n",
    "orders_by_state.columns = ['Estado', 'Quantidade de pedidos']\n",
    "\n",
    "plt.figure(figsize=(14, 8))\n",
    "sns.barplot(x='Estado', y='Quantidade de pedidos', data=orders_by_state)\n",
    "plt.title('Números de pedidos por estado')\n",
    "plt.xticks(rotation=45)\n",
    "plt.show()"
   ]
  },
  {
   "cell_type": "code",
   "execution_count": null,
   "metadata": {},
   "outputs": [],
   "source": [
    "orders_with_state = pd.merge(orders, customers[['customer_id', 'customer_state']], on='customer_id', how='left')\n",
    "\n",
    "avg_orders_by_state = orders_with_state.groupby('customer_state')['order_id'].count().reset_index()\n",
    "avg_orders_by_state.columns = ['Estado', 'Média de pedidos']\n",
    "\n",
    "media_de_pedidos_por_estado = avg_orders_by_state['Média de pedidos'].mean()\n",
    "print(f'Média de Pedidos por Estado: {media_de_pedidos_por_estado: .2f}')"
   ]
  },
  {
   "cell_type": "markdown",
   "metadata": {},
   "source": [
    "Irei criar um mapa de calor (HeatMap), com a ajuda da biblioteca Folium.\n",
    "Esse mapa me ajudará a entender melhor qual é a distribuição dos clientes por região, que é uma das perguntas a serem respondidas."
   ]
  },
  {
   "cell_type": "code",
   "execution_count": null,
   "metadata": {},
   "outputs": [],
   "source": [
    "map = folium.Map(location=[-14.235004, -51.92528], zoom_start= 4)\n",
    "heat_data = [[row['geolocation_lat'], row['geolocation_lng']]for index, row in geolocation.iterrows()]\n",
    "HeatMap(heat_data).add_to(map)\n",
    "map.save('heat_map.html')\n",
    "\n",
    "map"
   ]
  },
  {
   "cell_type": "markdown",
   "metadata": {},
   "source": [
    "Para a próxima análise, vou focar em categoria de cada produto. Iremos descobrir categórias mais vendidas e qual categória gera a maior receita.\n",
    "\n",
    "Como as vendas se distribuem entre diferentes categorias de produtos? Quais categorias têm melhor desempenho em termos de receita e volume?\n",
    "Para responder essas questões, foi necessário fazer a junção de dois DataSets e agrupar a quantidade de pedidos em cada categoria. Após isso, ordenei o resultado do volume de pedidos do maior para o menor.\n",
    "O mesmo foi feito para descobrir qual categoria gera mais receita, mas ao contrário do volume que contamos, a receita nos somamos o valor."
   ]
  },
  {
   "cell_type": "code",
   "execution_count": null,
   "metadata": {},
   "outputs": [],
   "source": [
    "orders_with_category = pd.merge(order_items, products[['product_id', 'product_category_name']], on='product_id', how='left')\n",
    "\n",
    "count_by_category = orders_with_category.groupby('product_category_name')['product_id'].count().reset_index()\n",
    "count_by_category.columns = ['Categoria', 'Quantidade de pedidos']\n",
    "count_by_category_sorted = count_by_category.sort_values(by='Quantidade de pedidos', ascending=False).reset_index(drop=True)\n",
    "\n",
    "sum_by_category = orders_with_category.groupby('product_category_name')['price'].sum().reset_index()\n",
    "sum_by_category.columns = ['Categoria', 'Receita Gerada']\n",
    "sum_by_category_sorted = sum_by_category.sort_values(by='Receita Gerada', ascending=False).reset_index(drop=True)\n",
    "\n",
    "print(sum_by_category_sorted.head(10))\n",
    "print(count_by_category_sorted.head(10))"
   ]
  },
  {
   "cell_type": "markdown",
   "metadata": {},
   "source": [
    "Qual é o valor médio das compras (valor médio do pedido)?"
   ]
  },
  {
   "cell_type": "code",
   "execution_count": null,
   "metadata": {},
   "outputs": [],
   "source": [
    "price_by_order = order_payment.groupby('order_id')['payment_value'].sum().reset_index()\n",
    "price_by_order.columns = ['order id', 'price']\n",
    "avg_price_by_order = price_by_order['price'].mean()\n",
    "\n",
    "print(f'O valor médio do pedido é: {avg_price_by_order: .1f}')"
   ]
  },
  {
   "cell_type": "markdown",
   "metadata": {},
   "source": [
    "Ao se questionar qual o volume de vendas para cada mês, representamos os dados em um gráfico de barras para uma melhor vizualização."
   ]
  },
  {
   "cell_type": "code",
   "execution_count": null,
   "metadata": {},
   "outputs": [],
   "source": [
    "orders['order_purchase_timestamp'] = pd.to_datetime(orders['order_purchase_timestamp'])\n",
    "orders['year_month'] = orders['order_purchase_timestamp'].dt.to_period('M')\n",
    "\n",
    "monthly_sales = orders.groupby('year_month')['order_id'].count().reset_index()\n",
    "monthly_sales.columns = ['Quantidade de pedidos', 'Mês']\n",
    "\n",
    "plt.figure(figsize=(14, 8))\n",
    "sns.barplot(y='Mês', x='Quantidade de pedidos', data=monthly_sales)\n",
    "plt.title('Números de pedidos por mês')\n",
    "plt.xticks(rotation=45)\n",
    "plt.show()"
   ]
  }
 ],
 "metadata": {
  "kernelspec": {
   "display_name": "Python 3",
   "language": "python",
   "name": "python3"
  },
  "language_info": {
   "codemirror_mode": {
    "name": "ipython",
    "version": 3
   },
   "file_extension": ".py",
   "mimetype": "text/x-python",
   "name": "python",
   "nbconvert_exporter": "python",
   "pygments_lexer": "ipython3",
   "version": "3.12.3"
  }
 },
 "nbformat": 4,
 "nbformat_minor": 2
}
